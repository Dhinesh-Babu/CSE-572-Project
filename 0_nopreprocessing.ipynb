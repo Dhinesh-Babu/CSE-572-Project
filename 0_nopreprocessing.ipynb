{
 "cells": [
  {
   "cell_type": "markdown",
   "metadata": {},
   "source": [
    "# Baseline Linear Regression Model with NO Data Preprocessing"
   ]
  },
  {
   "cell_type": "code",
   "execution_count": 19,
   "metadata": {},
   "outputs": [
    {
     "name": "stdout",
     "output_type": "stream",
     "text": [
      "Initial memory usage: 2467.79 MB\n"
     ]
    },
    {
     "name": "stderr",
     "output_type": "stream",
     "text": [
      "C:\\Users\\dublu\\AppData\\Local\\Temp\\ipykernel_12492\\754614994.py:39: FutureWarning: is_categorical_dtype is deprecated and will be removed in a future version. Use isinstance(dtype, CategoricalDtype) instead\n",
      "  if is_datetime(data[column]) or is_categorical_dtype(data[column]):\n",
      "C:\\Users\\dublu\\AppData\\Local\\Temp\\ipykernel_12492\\754614994.py:39: FutureWarning: is_categorical_dtype is deprecated and will be removed in a future version. Use isinstance(dtype, CategoricalDtype) instead\n",
      "  if is_datetime(data[column]) or is_categorical_dtype(data[column]):\n",
      "C:\\Users\\dublu\\AppData\\Local\\Temp\\ipykernel_12492\\754614994.py:39: FutureWarning: is_categorical_dtype is deprecated and will be removed in a future version. Use isinstance(dtype, CategoricalDtype) instead\n",
      "  if is_datetime(data[column]) or is_categorical_dtype(data[column]):\n",
      "C:\\Users\\dublu\\AppData\\Local\\Temp\\ipykernel_12492\\754614994.py:39: FutureWarning: is_categorical_dtype is deprecated and will be removed in a future version. Use isinstance(dtype, CategoricalDtype) instead\n",
      "  if is_datetime(data[column]) or is_categorical_dtype(data[column]):\n",
      "C:\\Users\\dublu\\AppData\\Local\\Temp\\ipykernel_12492\\754614994.py:39: FutureWarning: is_categorical_dtype is deprecated and will be removed in a future version. Use isinstance(dtype, CategoricalDtype) instead\n",
      "  if is_datetime(data[column]) or is_categorical_dtype(data[column]):\n",
      "C:\\Users\\dublu\\AppData\\Local\\Temp\\ipykernel_12492\\754614994.py:39: FutureWarning: is_categorical_dtype is deprecated and will be removed in a future version. Use isinstance(dtype, CategoricalDtype) instead\n",
      "  if is_datetime(data[column]) or is_categorical_dtype(data[column]):\n",
      "C:\\Users\\dublu\\AppData\\Local\\Temp\\ipykernel_12492\\754614994.py:39: FutureWarning: is_categorical_dtype is deprecated and will be removed in a future version. Use isinstance(dtype, CategoricalDtype) instead\n",
      "  if is_datetime(data[column]) or is_categorical_dtype(data[column]):\n",
      "C:\\Users\\dublu\\AppData\\Local\\Temp\\ipykernel_12492\\754614994.py:39: FutureWarning: is_categorical_dtype is deprecated and will be removed in a future version. Use isinstance(dtype, CategoricalDtype) instead\n",
      "  if is_datetime(data[column]) or is_categorical_dtype(data[column]):\n",
      "C:\\Users\\dublu\\AppData\\Local\\Temp\\ipykernel_12492\\754614994.py:39: FutureWarning: is_categorical_dtype is deprecated and will be removed in a future version. Use isinstance(dtype, CategoricalDtype) instead\n",
      "  if is_datetime(data[column]) or is_categorical_dtype(data[column]):\n",
      "C:\\Users\\dublu\\AppData\\Local\\Temp\\ipykernel_12492\\754614994.py:39: FutureWarning: is_categorical_dtype is deprecated and will be removed in a future version. Use isinstance(dtype, CategoricalDtype) instead\n",
      "  if is_datetime(data[column]) or is_categorical_dtype(data[column]):\n",
      "C:\\Users\\dublu\\AppData\\Local\\Temp\\ipykernel_12492\\754614994.py:39: FutureWarning: is_categorical_dtype is deprecated and will be removed in a future version. Use isinstance(dtype, CategoricalDtype) instead\n",
      "  if is_datetime(data[column]) or is_categorical_dtype(data[column]):\n",
      "C:\\Users\\dublu\\AppData\\Local\\Temp\\ipykernel_12492\\754614994.py:39: FutureWarning: is_categorical_dtype is deprecated and will be removed in a future version. Use isinstance(dtype, CategoricalDtype) instead\n",
      "  if is_datetime(data[column]) or is_categorical_dtype(data[column]):\n"
     ]
    },
    {
     "name": "stdout",
     "output_type": "stream",
     "text": [
      "Reduced memory usage: 713.66 MB, decreased by 71.1%\n"
     ]
    },
    {
     "name": "stderr",
     "output_type": "stream",
     "text": [
      "C:\\Users\\dublu\\AppData\\Local\\Temp\\ipykernel_12492\\754614994.py:30: FutureWarning: Series.fillna with 'method' is deprecated and will raise in a future version. Use obj.ffill() or obj.bfill() instead.\n",
      "  data[column].fillna(method='pad', inplace=True)\n"
     ]
    },
    {
     "name": "stdout",
     "output_type": "stream",
     "text": [
      "Number of records Before dropping: 20216100\n",
      "Number of records After dropping: 321728\n"
     ]
    }
   ],
   "source": [
    "import os\n",
    "import numpy as np\n",
    "import pandas as pd\n",
    "import datetime\n",
    "from pandas.api.types import is_datetime64_any_dtype as is_datetime\n",
    "from pandas.api.types import is_categorical_dtype\n",
    "from sklearn.model_selection import KFold\n",
    "from sklearn.linear_model import LinearRegression\n",
    "from sklearn.metrics import mean_squared_error\n",
    "\n",
    "# Paths for dataset\n",
    "DATA_PATH = \"dataset\"\n",
    "TRAIN_FILE = 'train.csv'\n",
    "BUILDING_METADATA_FILE = 'building_metadata.csv'\n",
    "WEATHER_TRAIN_FILE = 'weather_train.csv'\n",
    "\n",
    "# Read the data files\n",
    "train_data = pd.read_csv(os.path.join(DATA_PATH, TRAIN_FILE))\n",
    "building_data = pd.read_csv(os.path.join(DATA_PATH, BUILDING_METADATA_FILE))\n",
    "weather_data = pd.read_csv(os.path.join(DATA_PATH, WEATHER_TRAIN_FILE))\n",
    "\n",
    "# Merge the datasets\n",
    "train_data = train_data.merge(building_data, on='building_id', how='left')\n",
    "train_data = train_data.merge(weather_data, on=['site_id', 'timestamp'], how='left')\n",
    "\n",
    "def fill_nan_with_previous(data):\n",
    "    \"\"\"Fill NaN values with the previous non-NaN value in each column.\"\"\"\n",
    "    for column in data.columns:\n",
    "        if data[column].dtype == np.float64 or data[column].dtype == np.float32:\n",
    "            data[column].fillna(method='pad', inplace=True)\n",
    "    return data\n",
    "\n",
    "def reduce_memory_usage(data, use_float16=False):\n",
    "    \"\"\"Reduce memory usage by converting data types within a dataframe.\"\"\"\n",
    "    start_mem = data.memory_usage().sum() / 1024**2\n",
    "    print(f\"Initial memory usage: {start_mem:.2f} MB\")\n",
    "\n",
    "    for column in data.columns:\n",
    "        if is_datetime(data[column]) or is_categorical_dtype(data[column]):\n",
    "            continue\n",
    "        col_type = data[column].dtype\n",
    "        if col_type != object:\n",
    "            c_min, c_max = data[column].min(), data[column].max()\n",
    "            if str(col_type)[:3] == \"int\":\n",
    "                data[column] = pd.to_numeric(data[column], downcast='integer')\n",
    "            else:\n",
    "                if use_float16 and c_min > np.finfo(np.float16).min and c_max < np.finfo(np.float16).max:\n",
    "                    data[column] = data[column].astype(np.float16)\n",
    "                else:\n",
    "                    data[column] = pd.to_numeric(data[column], downcast='float')\n",
    "\n",
    "        else:\n",
    "            data[column] = data[column].astype('category')\n",
    "\n",
    "    end_mem = data.memory_usage().sum() / 1024**2\n",
    "    print(f\"Reduced memory usage: {end_mem:.2f} MB, decreased by {(100 * (start_mem - end_mem) / start_mem):.1f}%\")\n",
    "    return data\n",
    "\n",
    "# Optimize memory usage\n",
    "train_data = reduce_memory_usage(train_data, use_float16=True)\n",
    "train_data_dropped = train_data.copy()\n",
    "\n",
    "# Fill NaN values with the previous non-NaN value in each column\n",
    "train_data = fill_nan_with_previous(train_data)\n",
    "\n",
    "\n",
    "\n",
    "# Drop rows with NaN values\n",
    "print(f\"Number of records Before dropping: {train_data_dropped.shape[0]}\")\n",
    "train_data_dropped.dropna(inplace=True)\n",
    "print(f\"Number of records After dropping: {train_data_dropped.shape[0]}\")\n",
    "\n",
    "# Convert timestamp to UNIX and drop unnecessary columns\n",
    "train_data['timestamp'] = train_data['timestamp'].apply(lambda x: datetime.datetime.strptime(x, '%Y-%m-%d %H:%M:%S').timestamp())\n",
    "train_data.drop(columns=['primary_use', 'year_built', 'floor_count', 'air_temperature', 'cloud_coverage', 'dew_temperature', 'precip_depth_1_hr', 'sea_level_pressure', 'wind_direction', 'wind_speed'], inplace=True)\n",
    "train_data_dropped['timestamp'] = train_data_dropped['timestamp'].apply(lambda x: datetime.datetime.strptime(x, '%Y-%m-%d %H:%M:%S').timestamp())\n",
    "train_data_dropped.drop(columns=['primary_use', 'year_built', 'floor_count', 'air_temperature', 'cloud_coverage', 'dew_temperature', 'precip_depth_1_hr', 'sea_level_pressure', 'wind_direction', 'wind_speed'], inplace=True)\n",
    "\n",
    "# Prepare target variable\n",
    "target_variable = np.log1p(train_data[\"meter_reading\"])\n",
    "target_variable_drop = np.log1p(train_data_dropped[\"meter_reading\"])\n",
    "train_data_dropped.drop(columns=[\"meter_reading\"], inplace=True)\n",
    "train_data.drop(columns=[\"meter_reading\"], inplace=True)"
   ]
  },
  {
   "cell_type": "markdown",
   "metadata": {},
   "source": [
    "# Linear Regression Baseline with Datacleaning and No Data Preprocessing\n",
    "Filling NAN values with last value."
   ]
  },
  {
   "cell_type": "code",
   "execution_count": 20,
   "metadata": {},
   "outputs": [
    {
     "name": "stdout",
     "output_type": "stream",
     "text": [
      "Fold RMSE: 1.9777923212738855\n",
      "Fold RMSE: 1.9763479763448124\n",
      "Fold RMSE: 1.9784587539393268\n",
      "Fold RMSE: 1.9776286575058237\n",
      "Fold RMSE: 1.9784522755747833\n",
      "Average RMSE: 1.9777359969277264\n"
     ]
    }
   ],
   "source": [
    "# K-fold linear regression for filled data\n",
    "kf = KFold(n_splits=5, shuffle=True)\n",
    "rmse_scores = []\n",
    "\n",
    "for train_idx, test_idx in kf.split(train_data):\n",
    "    X_train, X_test = train_data.iloc[train_idx], train_data.iloc[test_idx]\n",
    "    y_train, y_test = target_variable.iloc[train_idx], target_variable.iloc[test_idx]\n",
    "\n",
    "    model = LinearRegression()\n",
    "    model.fit(X_train, y_train)\n",
    "    y_pred = model.predict(X_test)\n",
    "\n",
    "    rmse = np.sqrt(mean_squared_error(y_test, y_pred))\n",
    "    rmse_scores.append(rmse)\n",
    "    print(f\"Fold RMSE: {rmse}\")\n",
    "\n",
    "print(f\"Average RMSE: {np.mean(rmse_scores)}\")"
   ]
  },
  {
   "cell_type": "markdown",
   "metadata": {},
   "source": [
    "# Linear Regression Baseline with Datacleaning and No Data Preprocessing\n",
    "Dropping NAN values\n",
    "\n",
    "Number of records Before dropping: 20216100\n",
    "\n",
    "Number of records After dropping: 321728"
   ]
  },
  {
   "cell_type": "code",
   "execution_count": 22,
   "metadata": {},
   "outputs": [
    {
     "name": "stdout",
     "output_type": "stream",
     "text": [
      "Fold RMSE: 1.2740955691508031\n",
      "Fold RMSE: 1.2787556994143219\n",
      "Fold RMSE: 1.275769019550566\n",
      "Fold RMSE: 1.2737226984807124\n",
      "Fold RMSE: 1.2748829638527512\n",
      "Average RMSE: 1.275445190089831\n"
     ]
    }
   ],
   "source": [
    "# K-fold linear regression for dropped data\n",
    "kf = KFold(n_splits=5, shuffle=True)\n",
    "rmse_scores = []\n",
    "\n",
    "for train_idx, test_idx in kf.split(train_data_dropped):\n",
    "    X_train, X_test = train_data_dropped.iloc[train_idx], train_data_dropped.iloc[test_idx]\n",
    "    y_train, y_test = target_variable_drop.iloc[train_idx], target_variable_drop.iloc[test_idx]\n",
    "\n",
    "    model = LinearRegression()\n",
    "    model.fit(X_train, y_train)\n",
    "    y_pred = model.predict(X_test)\n",
    "\n",
    "    rmse = np.sqrt(mean_squared_error(y_test, y_pred))\n",
    "    rmse_scores.append(rmse)\n",
    "    print(f\"Fold RMSE: {rmse}\")\n",
    "\n",
    "print(f\"Average RMSE: {np.mean(rmse_scores)}\")\n"
   ]
  }
 ],
 "metadata": {
  "kernelspec": {
   "display_name": "Python 3",
   "language": "python",
   "name": "python3"
  },
  "language_info": {
   "codemirror_mode": {
    "name": "ipython",
    "version": 3
   },
   "file_extension": ".py",
   "mimetype": "text/x-python",
   "name": "python",
   "nbconvert_exporter": "python",
   "pygments_lexer": "ipython3",
   "version": "3.10.11"
  }
 },
 "nbformat": 4,
 "nbformat_minor": 2
}
